{
 "cells": [
  {
   "cell_type": "markdown",
   "metadata": {},
   "source": [
    "Решите простую задачу безусловной оптимизации в двумерном пространстве:  \n",
    "$$f(\\boldsymbol x) = -8x_1 - 16x_2 + x_1^2 + 4x_2^2$$\n",
    "используя два метода:\n",
    " - аналитически (функция квадратичная, выпуклая)\n",
    " - методом градиентного спуска, используя один из методов оптимизации torch.optim"
   ]
  },
  {
   "cell_type": "markdown",
   "metadata": {},
   "source": [
    "$\n",
    "f(x,y) = -8x_1 -16x_2 +x_1^2 + 4x_2^2\n",
    "$"
   ]
  },
  {
   "cell_type": "markdown",
   "metadata": {},
   "source": [
    "$\n",
    "f_{x_1} = -8 + 2x_1 \\\\ \n",
    "$ \n",
    "\n",
    "$\n",
    "f_{x_2} = -16 + 8x_2 \\\\\n",
    "x_1 = 4 \\space, x_2 = 2\n",
    "$"
   ]
  },
  {
   "cell_type": "code",
   "execution_count": 4,
   "metadata": {},
   "outputs": [],
   "source": [
    "import torch\n",
    "import torch.nn as nn\n",
    "from torch import tensor as t"
   ]
  },
  {
   "cell_type": "code",
   "execution_count": 7,
   "metadata": {},
   "outputs": [
    {
     "name": "stdout",
     "output_type": "stream",
     "text": [
      "iteration_ 5, x_1 = 4.0,x_2 = 2.0006399154663086, f(x_1,x_2)= -31.99995994567871, grad_x_1 = tensor([0.]),, grad_x_2 = tensor([0.])\n",
      "iteration_ 10, x_1 = 4.0,x_2 = 2.000000238418579, f(x_1,x_2)= -32.0, grad_x_1 = tensor([0.]),, grad_x_2 = tensor([0.])\n",
      "iteration_ 15, x_1 = 4.0,x_2 = 2.0, f(x_1,x_2)= -32.0, grad_x_1 = tensor([0.]),, grad_x_2 = tensor([0.])\n",
      "iteration_ 20, x_1 = 4.0,x_2 = 2.0, f(x_1,x_2)= -32.0, grad_x_1 = tensor([0.]),, grad_x_2 = tensor([0.])\n",
      "iteration_ 25, x_1 = 4.0,x_2 = 2.0, f(x_1,x_2)= -32.0, grad_x_1 = tensor([0.]),, grad_x_2 = tensor([0.])\n",
      "iteration_ 30, x_1 = 4.0,x_2 = 2.0, f(x_1,x_2)= -32.0, grad_x_1 = tensor([0.]),, grad_x_2 = tensor([0.])\n",
      "iteration_ 35, x_1 = 4.0,x_2 = 2.0, f(x_1,x_2)= -32.0, grad_x_1 = tensor([0.]),, grad_x_2 = tensor([0.])\n",
      "iteration_ 40, x_1 = 4.0,x_2 = 2.0, f(x_1,x_2)= -32.0, grad_x_1 = tensor([0.]),, grad_x_2 = tensor([0.])\n",
      "iteration_ 45, x_1 = 4.0,x_2 = 2.0, f(x_1,x_2)= -32.0, grad_x_1 = tensor([0.]),, grad_x_2 = tensor([0.])\n",
      "iteration_ 50, x_1 = 4.0,x_2 = 2.0, f(x_1,x_2)= -32.0, grad_x_1 = tensor([0.]),, grad_x_2 = tensor([0.])\n",
      "iteration_ 55, x_1 = 4.0,x_2 = 2.0, f(x_1,x_2)= -32.0, grad_x_1 = tensor([0.]),, grad_x_2 = tensor([0.])\n",
      "iteration_ 60, x_1 = 4.0,x_2 = 2.0, f(x_1,x_2)= -32.0, grad_x_1 = tensor([0.]),, grad_x_2 = tensor([0.])\n",
      "iteration_ 65, x_1 = 4.0,x_2 = 2.0, f(x_1,x_2)= -32.0, grad_x_1 = tensor([0.]),, grad_x_2 = tensor([0.])\n",
      "iteration_ 70, x_1 = 4.0,x_2 = 2.0, f(x_1,x_2)= -32.0, grad_x_1 = tensor([0.]),, grad_x_2 = tensor([0.])\n",
      "iteration_ 75, x_1 = 4.0,x_2 = 2.0, f(x_1,x_2)= -32.0, grad_x_1 = tensor([0.]),, grad_x_2 = tensor([0.])\n",
      "iteration_ 80, x_1 = 4.0,x_2 = 2.0, f(x_1,x_2)= -32.0, grad_x_1 = tensor([0.]),, grad_x_2 = tensor([0.])\n",
      "iteration_ 85, x_1 = 4.0,x_2 = 2.0, f(x_1,x_2)= -32.0, grad_x_1 = tensor([0.]),, grad_x_2 = tensor([0.])\n",
      "iteration_ 90, x_1 = 4.0,x_2 = 2.0, f(x_1,x_2)= -32.0, grad_x_1 = tensor([0.]),, grad_x_2 = tensor([0.])\n",
      "iteration_ 95, x_1 = 4.0,x_2 = 2.0, f(x_1,x_2)= -32.0, grad_x_1 = tensor([0.]),, grad_x_2 = tensor([0.])\n",
      "iteration_ 100, x_1 = 4.0,x_2 = 2.0, f(x_1,x_2)= -32.0, grad_x_1 = tensor([0.]),, grad_x_2 = tensor([0.])\n",
      "iteration_ 105, x_1 = 4.0,x_2 = 2.0, f(x_1,x_2)= -32.0, grad_x_1 = tensor([0.]),, grad_x_2 = tensor([0.])\n",
      "iteration_ 110, x_1 = 4.0,x_2 = 2.0, f(x_1,x_2)= -32.0, grad_x_1 = tensor([0.]),, grad_x_2 = tensor([0.])\n",
      "iteration_ 115, x_1 = 4.0,x_2 = 2.0, f(x_1,x_2)= -32.0, grad_x_1 = tensor([0.]),, grad_x_2 = tensor([0.])\n",
      "iteration_ 120, x_1 = 4.0,x_2 = 2.0, f(x_1,x_2)= -32.0, grad_x_1 = tensor([0.]),, grad_x_2 = tensor([0.])\n",
      "iteration_ 125, x_1 = 4.0,x_2 = 2.0, f(x_1,x_2)= -32.0, grad_x_1 = tensor([0.]),, grad_x_2 = tensor([0.])\n",
      "iteration_ 130, x_1 = 4.0,x_2 = 2.0, f(x_1,x_2)= -32.0, grad_x_1 = tensor([0.]),, grad_x_2 = tensor([0.])\n",
      "iteration_ 135, x_1 = 4.0,x_2 = 2.0, f(x_1,x_2)= -32.0, grad_x_1 = tensor([0.]),, grad_x_2 = tensor([0.])\n",
      "iteration_ 140, x_1 = 4.0,x_2 = 2.0, f(x_1,x_2)= -32.0, grad_x_1 = tensor([0.]),, grad_x_2 = tensor([0.])\n",
      "iteration_ 145, x_1 = 4.0,x_2 = 2.0, f(x_1,x_2)= -32.0, grad_x_1 = tensor([0.]),, grad_x_2 = tensor([0.])\n",
      "iteration_ 150, x_1 = 4.0,x_2 = 2.0, f(x_1,x_2)= -32.0, grad_x_1 = tensor([0.]),, grad_x_2 = tensor([0.])\n"
     ]
    }
   ],
   "source": [
    "f = lambda x_1, x_2:-8*x_1 - 16*x_2 + x_1**2 + 4*x_2**2\n",
    "\n",
    "x_1 = t([4], dtype=torch.float32, requires_grad=True)\n",
    "x_2 = t([4], dtype=torch.float32, requires_grad=True)\n",
    "\n",
    "optimizer = torch.optim.SGD([x_1,x_2], lr=0.1)\n",
    "\n",
    "\n",
    "for i in range(150):\n",
    "    Y = f(x_1,x_2)\n",
    "    optimizer.zero_grad()\n",
    "    Y.backward()\n",
    "    optimizer.step()\n",
    "    if (i+1) % 5 == 0:\n",
    "        print(f'iteration_ {i+1}, x_1 = {x_1[0]},x_2 = {x_2[0]}, f(x_1,x_2)= {Y[0]}, grad_x_1 = {x_1.grad},, grad_x_2 = {x_1.grad}')\n",
    "    #     with torch.no_grad():\n",
    "    #         x -= 0.1 * x.grad\n",
    "    #x.grad.zero_()\n",
    "    #print(f'grad {x.grad}')"
   ]
  },
  {
   "cell_type": "code",
   "execution_count": null,
   "metadata": {},
   "outputs": [],
   "source": []
  }
 ],
 "metadata": {
  "kernelspec": {
   "display_name": "Python 3 (ipykernel)",
   "language": "python",
   "name": "python3"
  },
  "language_info": {
   "codemirror_mode": {
    "name": "ipython",
    "version": 3
   },
   "file_extension": ".py",
   "mimetype": "text/x-python",
   "name": "python",
   "nbconvert_exporter": "python",
   "pygments_lexer": "ipython3",
   "version": "3.11.5"
  }
 },
 "nbformat": 4,
 "nbformat_minor": 2
}
